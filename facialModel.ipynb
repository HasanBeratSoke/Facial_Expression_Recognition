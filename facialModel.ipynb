{
 "cells": [
  {
   "cell_type": "code",
   "execution_count": 1,
   "id": "4743e5d6",
   "metadata": {},
   "outputs": [],
   "source": [
    "from tensorflow.keras.models import model_from_json\n",
    "import numpy as np\n"
   ]
  },
  {
   "cell_type": "code",
   "execution_count": 2,
   "id": "1f5007ea",
   "metadata": {},
   "outputs": [],
   "source": [
    "class FacialExpressionModel(object):\n",
    "    emo_list =  [\"Angry\",\"Disgust\",\"Fear\",\"Happy\",\"Neutral\",\"Sad\",\"Surprise\"]\n",
    "    \n",
    "    def __init__ (self, model_json_file, model_weights_file):\n",
    "        with open (model_weights_file,'r') as json_file:\n",
    "            loaded_model_json=json_file.read()\n",
    "            self.loaded_model = model_from_json(loaded_model_json)\n",
    "        \n",
    "        self.loaded_model.load_weights(model_weights_file)\n",
    "        self.loaded_model._make_predict_function()\n",
    "    \n",
    "    def predict_emotion(self, img):\n",
    "        self.preds = self.loaded_model.predict(img)\n",
    "        return FacialExpressionModel.EMOTIONS_LIST[np.argmax(self.preds)]"
   ]
  },
  {
   "cell_type": "code",
   "execution_count": null,
   "id": "e5932af8",
   "metadata": {},
   "outputs": [],
   "source": []
  }
 ],
 "metadata": {
  "kernelspec": {
   "display_name": "Python 3",
   "language": "python",
   "name": "python3"
  },
  "language_info": {
   "codemirror_mode": {
    "name": "ipython",
    "version": 3
   },
   "file_extension": ".py",
   "mimetype": "text/x-python",
   "name": "python",
   "nbconvert_exporter": "python",
   "pygments_lexer": "ipython3",
   "version": "3.8.8"
  }
 },
 "nbformat": 4,
 "nbformat_minor": 5
}
